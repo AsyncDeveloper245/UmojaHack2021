{
 "cells": [
  {
   "cell_type": "code",
   "execution_count": 157,
   "metadata": {},
   "outputs": [],
   "source": [
    "#Load Libraries\n",
    "import numpy as np\n",
    "import pandas as pd\n",
    "import matplotlib.pyplot as plt\n",
    "import seaborn as sns \n",
    "from sklearn.metrics import auc,classification_report,roc_auc_score\n",
    "from sklearn.model_selection import train_test_split\n",
    "from lightgbm import LGBMClassifier\n",
    "from sklearn.ensemble import RandomForestClassifier\n",
    "from sklearn.tree import DecisionTreeRegressor\n",
    "from sklearn.tree import DecisionTreeClassifier\n",
    "%matplotlib inline\n",
    "import warnings\n",
    "warnings.filterwarnings('ignore')\n",
    "import xgboost as xgb\n",
    "from sklearn.ensemble import GradientBoostingRegressor\n",
    "from sklearn.ensemble import GradientBoostingClassifier\n",
    "from sklearn.ensemble import RandomForestRegressor"
   ]
  },
  {
   "cell_type": "code",
   "execution_count": 10,
   "metadata": {},
   "outputs": [],
   "source": [
    "#Load Datasets\n",
    "Train = pd.read_csv(\"Train.csv\")\n",
    "Test = pd.read_csv(\"Test.csv\")\n",
    "SampleSubmission = pd.read_csv('SampleSubmission.csv')\n",
    "VariableDefinition = pd.read_csv(\"VariableDefinitions.csv\")"
   ]
  },
  {
   "cell_type": "code",
   "execution_count": 5,
   "metadata": {},
   "outputs": [
    {
     "data": {
      "text/html": [
       "<div>\n",
       "<style scoped>\n",
       "    .dataframe tbody tr th:only-of-type {\n",
       "        vertical-align: middle;\n",
       "    }\n",
       "\n",
       "    .dataframe tbody tr th {\n",
       "        vertical-align: top;\n",
       "    }\n",
       "\n",
       "    .dataframe thead th {\n",
       "        text-align: right;\n",
       "    }\n",
       "</style>\n",
       "<table border=\"1\" class=\"dataframe\">\n",
       "  <thead>\n",
       "    <tr style=\"text-align: right;\">\n",
       "      <th></th>\n",
       "      <th>ID</th>\n",
       "      <th>country</th>\n",
       "      <th>region</th>\n",
       "      <th>population</th>\n",
       "      <th>age</th>\n",
       "      <th>Q1</th>\n",
       "      <th>Q2</th>\n",
       "      <th>Q3</th>\n",
       "      <th>Q4</th>\n",
       "      <th>Q5</th>\n",
       "      <th>...</th>\n",
       "      <th>Q21</th>\n",
       "      <th>Q22</th>\n",
       "      <th>Q23</th>\n",
       "      <th>Q24</th>\n",
       "      <th>Q25</th>\n",
       "      <th>Q26</th>\n",
       "      <th>Q27</th>\n",
       "      <th>owns_mobile</th>\n",
       "      <th>Q28</th>\n",
       "      <th>target</th>\n",
       "    </tr>\n",
       "  </thead>\n",
       "  <tbody>\n",
       "    <tr>\n",
       "      <th>0</th>\n",
       "      <td>ID_0000020532</td>\n",
       "      <td>Morocco</td>\n",
       "      <td>Middle East &amp; North Africa (excluding high inc...</td>\n",
       "      <td>25550170.0</td>\n",
       "      <td>66.0</td>\n",
       "      <td>2</td>\n",
       "      <td>NaN</td>\n",
       "      <td>NaN</td>\n",
       "      <td>NaN</td>\n",
       "      <td>NaN</td>\n",
       "      <td>...</td>\n",
       "      <td>1</td>\n",
       "      <td>2</td>\n",
       "      <td>NaN</td>\n",
       "      <td>1</td>\n",
       "      <td>2</td>\n",
       "      <td>2.0</td>\n",
       "      <td>2.0</td>\n",
       "      <td>1.0</td>\n",
       "      <td>1.0</td>\n",
       "      <td>0</td>\n",
       "    </tr>\n",
       "    <tr>\n",
       "      <th>1</th>\n",
       "      <td>ID_0000075765</td>\n",
       "      <td>Lebanon</td>\n",
       "      <td>Middle East &amp; North Africa (excluding high inc...</td>\n",
       "      <td>4591023.0</td>\n",
       "      <td>44.0</td>\n",
       "      <td>2</td>\n",
       "      <td>NaN</td>\n",
       "      <td>NaN</td>\n",
       "      <td>2.0</td>\n",
       "      <td>2.0</td>\n",
       "      <td>...</td>\n",
       "      <td>1</td>\n",
       "      <td>2</td>\n",
       "      <td>NaN</td>\n",
       "      <td>2</td>\n",
       "      <td>2</td>\n",
       "      <td>2.0</td>\n",
       "      <td>1.0</td>\n",
       "      <td>1.0</td>\n",
       "      <td>1.0</td>\n",
       "      <td>1</td>\n",
       "    </tr>\n",
       "    <tr>\n",
       "      <th>2</th>\n",
       "      <td>ID_0000085491</td>\n",
       "      <td>Morocco</td>\n",
       "      <td>Middle East &amp; North Africa (excluding high inc...</td>\n",
       "      <td>25550170.0</td>\n",
       "      <td>29.0</td>\n",
       "      <td>1</td>\n",
       "      <td>1.0</td>\n",
       "      <td>1.0</td>\n",
       "      <td>2.0</td>\n",
       "      <td>2.0</td>\n",
       "      <td>...</td>\n",
       "      <td>1</td>\n",
       "      <td>1</td>\n",
       "      <td>2.0</td>\n",
       "      <td>2</td>\n",
       "      <td>2</td>\n",
       "      <td>2.0</td>\n",
       "      <td>NaN</td>\n",
       "      <td>1.0</td>\n",
       "      <td>1.0</td>\n",
       "      <td>0</td>\n",
       "    </tr>\n",
       "    <tr>\n",
       "      <th>3</th>\n",
       "      <td>ID_0000144505</td>\n",
       "      <td>Canada</td>\n",
       "      <td>High income: OECD</td>\n",
       "      <td>30491168.0</td>\n",
       "      <td>44.0</td>\n",
       "      <td>1</td>\n",
       "      <td>1.0</td>\n",
       "      <td>1.0</td>\n",
       "      <td>1.0</td>\n",
       "      <td>1.0</td>\n",
       "      <td>...</td>\n",
       "      <td>1</td>\n",
       "      <td>1</td>\n",
       "      <td>2.0</td>\n",
       "      <td>1</td>\n",
       "      <td>2</td>\n",
       "      <td>NaN</td>\n",
       "      <td>NaN</td>\n",
       "      <td>1.0</td>\n",
       "      <td>NaN</td>\n",
       "      <td>1</td>\n",
       "    </tr>\n",
       "    <tr>\n",
       "      <th>4</th>\n",
       "      <td>ID_0000214184</td>\n",
       "      <td>Mexico</td>\n",
       "      <td>Latin America &amp; Caribbean (excluding high income)</td>\n",
       "      <td>93002320.0</td>\n",
       "      <td>36.0</td>\n",
       "      <td>2</td>\n",
       "      <td>NaN</td>\n",
       "      <td>NaN</td>\n",
       "      <td>NaN</td>\n",
       "      <td>NaN</td>\n",
       "      <td>...</td>\n",
       "      <td>1</td>\n",
       "      <td>2</td>\n",
       "      <td>NaN</td>\n",
       "      <td>1</td>\n",
       "      <td>2</td>\n",
       "      <td>2.0</td>\n",
       "      <td>2.0</td>\n",
       "      <td>1.0</td>\n",
       "      <td>1.0</td>\n",
       "      <td>1</td>\n",
       "    </tr>\n",
       "  </tbody>\n",
       "</table>\n",
       "<p>5 rows × 36 columns</p>\n",
       "</div>"
      ],
      "text/plain": [
       "              ID  country                                             region  \\\n",
       "0  ID_0000020532  Morocco  Middle East & North Africa (excluding high inc...   \n",
       "1  ID_0000075765  Lebanon  Middle East & North Africa (excluding high inc...   \n",
       "2  ID_0000085491  Morocco  Middle East & North Africa (excluding high inc...   \n",
       "3  ID_0000144505   Canada                                  High income: OECD   \n",
       "4  ID_0000214184   Mexico  Latin America & Caribbean (excluding high income)   \n",
       "\n",
       "   population   age  Q1   Q2   Q3   Q4   Q5  ...  Q21  Q22  Q23  Q24  Q25  \\\n",
       "0  25550170.0  66.0   2  NaN  NaN  NaN  NaN  ...    1    2  NaN    1    2   \n",
       "1   4591023.0  44.0   2  NaN  NaN  2.0  2.0  ...    1    2  NaN    2    2   \n",
       "2  25550170.0  29.0   1  1.0  1.0  2.0  2.0  ...    1    1  2.0    2    2   \n",
       "3  30491168.0  44.0   1  1.0  1.0  1.0  1.0  ...    1    1  2.0    1    2   \n",
       "4  93002320.0  36.0   2  NaN  NaN  NaN  NaN  ...    1    2  NaN    1    2   \n",
       "\n",
       "   Q26  Q27  owns_mobile  Q28  target  \n",
       "0  2.0  2.0          1.0  1.0       0  \n",
       "1  2.0  1.0          1.0  1.0       1  \n",
       "2  2.0  NaN          1.0  1.0       0  \n",
       "3  NaN  NaN          1.0  NaN       1  \n",
       "4  2.0  2.0          1.0  1.0       1  \n",
       "\n",
       "[5 rows x 36 columns]"
      ]
     },
     "execution_count": 5,
     "metadata": {},
     "output_type": "execute_result"
    }
   ],
   "source": [
    "Train.head()"
   ]
  },
  {
   "cell_type": "code",
   "execution_count": 6,
   "metadata": {},
   "outputs": [
    {
     "data": {
      "text/html": [
       "<div>\n",
       "<style scoped>\n",
       "    .dataframe tbody tr th:only-of-type {\n",
       "        vertical-align: middle;\n",
       "    }\n",
       "\n",
       "    .dataframe tbody tr th {\n",
       "        vertical-align: top;\n",
       "    }\n",
       "\n",
       "    .dataframe thead th {\n",
       "        text-align: right;\n",
       "    }\n",
       "</style>\n",
       "<table border=\"1\" class=\"dataframe\">\n",
       "  <thead>\n",
       "    <tr style=\"text-align: right;\">\n",
       "      <th></th>\n",
       "      <th>ID</th>\n",
       "      <th>country</th>\n",
       "      <th>region</th>\n",
       "      <th>population</th>\n",
       "      <th>age</th>\n",
       "      <th>Q1</th>\n",
       "      <th>Q2</th>\n",
       "      <th>Q3</th>\n",
       "      <th>Q4</th>\n",
       "      <th>Q5</th>\n",
       "      <th>...</th>\n",
       "      <th>Q20</th>\n",
       "      <th>Q21</th>\n",
       "      <th>Q22</th>\n",
       "      <th>Q23</th>\n",
       "      <th>Q24</th>\n",
       "      <th>Q25</th>\n",
       "      <th>Q26</th>\n",
       "      <th>Q27</th>\n",
       "      <th>owns_mobile</th>\n",
       "      <th>Q28</th>\n",
       "    </tr>\n",
       "  </thead>\n",
       "  <tbody>\n",
       "    <tr>\n",
       "      <th>0</th>\n",
       "      <td>ID_0000005111</td>\n",
       "      <td>Croatia</td>\n",
       "      <td>Europe &amp; Central Asia (excluding high income)</td>\n",
       "      <td>3557444.5</td>\n",
       "      <td>62.0</td>\n",
       "      <td>2</td>\n",
       "      <td>NaN</td>\n",
       "      <td>NaN</td>\n",
       "      <td>2.0</td>\n",
       "      <td>2.0</td>\n",
       "      <td>...</td>\n",
       "      <td>2.0</td>\n",
       "      <td>2</td>\n",
       "      <td>1</td>\n",
       "      <td>1.0</td>\n",
       "      <td>2</td>\n",
       "      <td>2</td>\n",
       "      <td>2.0</td>\n",
       "      <td>NaN</td>\n",
       "      <td>1.0</td>\n",
       "      <td>1.0</td>\n",
       "    </tr>\n",
       "    <tr>\n",
       "      <th>1</th>\n",
       "      <td>ID_0000389416</td>\n",
       "      <td>Kazakhstan</td>\n",
       "      <td>Europe &amp; Central Asia (excluding high income)</td>\n",
       "      <td>12920168.0</td>\n",
       "      <td>32.0</td>\n",
       "      <td>2</td>\n",
       "      <td>NaN</td>\n",
       "      <td>NaN</td>\n",
       "      <td>NaN</td>\n",
       "      <td>NaN</td>\n",
       "      <td>...</td>\n",
       "      <td>2.0</td>\n",
       "      <td>2</td>\n",
       "      <td>2</td>\n",
       "      <td>NaN</td>\n",
       "      <td>2</td>\n",
       "      <td>2</td>\n",
       "      <td>2.0</td>\n",
       "      <td>2.0</td>\n",
       "      <td>1.0</td>\n",
       "      <td>2.0</td>\n",
       "    </tr>\n",
       "    <tr>\n",
       "      <th>2</th>\n",
       "      <td>ID_0000634789</td>\n",
       "      <td>Costa Rica</td>\n",
       "      <td>Latin America &amp; Caribbean (excluding high income)</td>\n",
       "      <td>3791520.0</td>\n",
       "      <td>73.0</td>\n",
       "      <td>1</td>\n",
       "      <td>1.0</td>\n",
       "      <td>1.0</td>\n",
       "      <td>2.0</td>\n",
       "      <td>2.0</td>\n",
       "      <td>...</td>\n",
       "      <td>2.0</td>\n",
       "      <td>2</td>\n",
       "      <td>2</td>\n",
       "      <td>NaN</td>\n",
       "      <td>2</td>\n",
       "      <td>1</td>\n",
       "      <td>2.0</td>\n",
       "      <td>1.0</td>\n",
       "      <td>1.0</td>\n",
       "      <td>1.0</td>\n",
       "    </tr>\n",
       "    <tr>\n",
       "      <th>3</th>\n",
       "      <td>ID_0000778100</td>\n",
       "      <td>Japan</td>\n",
       "      <td>High income: OECD</td>\n",
       "      <td>110566824.0</td>\n",
       "      <td>67.0</td>\n",
       "      <td>1</td>\n",
       "      <td>1.0</td>\n",
       "      <td>1.0</td>\n",
       "      <td>1.0</td>\n",
       "      <td>2.0</td>\n",
       "      <td>...</td>\n",
       "      <td>NaN</td>\n",
       "      <td>1</td>\n",
       "      <td>1</td>\n",
       "      <td>2.0</td>\n",
       "      <td>1</td>\n",
       "      <td>1</td>\n",
       "      <td>NaN</td>\n",
       "      <td>NaN</td>\n",
       "      <td>1.0</td>\n",
       "      <td>NaN</td>\n",
       "    </tr>\n",
       "    <tr>\n",
       "      <th>4</th>\n",
       "      <td>ID_0001123210</td>\n",
       "      <td>Morocco</td>\n",
       "      <td>Middle East &amp; North Africa (excluding high inc...</td>\n",
       "      <td>25550170.0</td>\n",
       "      <td>32.0</td>\n",
       "      <td>1</td>\n",
       "      <td>1.0</td>\n",
       "      <td>1.0</td>\n",
       "      <td>2.0</td>\n",
       "      <td>2.0</td>\n",
       "      <td>...</td>\n",
       "      <td>1.0</td>\n",
       "      <td>2</td>\n",
       "      <td>2</td>\n",
       "      <td>NaN</td>\n",
       "      <td>2</td>\n",
       "      <td>2</td>\n",
       "      <td>2.0</td>\n",
       "      <td>2.0</td>\n",
       "      <td>1.0</td>\n",
       "      <td>1.0</td>\n",
       "    </tr>\n",
       "  </tbody>\n",
       "</table>\n",
       "<p>5 rows × 35 columns</p>\n",
       "</div>"
      ],
      "text/plain": [
       "              ID     country  \\\n",
       "0  ID_0000005111     Croatia   \n",
       "1  ID_0000389416  Kazakhstan   \n",
       "2  ID_0000634789  Costa Rica   \n",
       "3  ID_0000778100       Japan   \n",
       "4  ID_0001123210     Morocco   \n",
       "\n",
       "                                              region   population   age  Q1  \\\n",
       "0      Europe & Central Asia (excluding high income)    3557444.5  62.0   2   \n",
       "1      Europe & Central Asia (excluding high income)   12920168.0  32.0   2   \n",
       "2  Latin America & Caribbean (excluding high income)    3791520.0  73.0   1   \n",
       "3                                  High income: OECD  110566824.0  67.0   1   \n",
       "4  Middle East & North Africa (excluding high inc...   25550170.0  32.0   1   \n",
       "\n",
       "    Q2   Q3   Q4   Q5  ...  Q20  Q21  Q22  Q23  Q24  Q25  Q26  Q27  \\\n",
       "0  NaN  NaN  2.0  2.0  ...  2.0    2    1  1.0    2    2  2.0  NaN   \n",
       "1  NaN  NaN  NaN  NaN  ...  2.0    2    2  NaN    2    2  2.0  2.0   \n",
       "2  1.0  1.0  2.0  2.0  ...  2.0    2    2  NaN    2    1  2.0  1.0   \n",
       "3  1.0  1.0  1.0  2.0  ...  NaN    1    1  2.0    1    1  NaN  NaN   \n",
       "4  1.0  1.0  2.0  2.0  ...  1.0    2    2  NaN    2    2  2.0  2.0   \n",
       "\n",
       "   owns_mobile  Q28  \n",
       "0          1.0  1.0  \n",
       "1          1.0  2.0  \n",
       "2          1.0  1.0  \n",
       "3          1.0  NaN  \n",
       "4          1.0  1.0  \n",
       "\n",
       "[5 rows x 35 columns]"
      ]
     },
     "execution_count": 6,
     "metadata": {},
     "output_type": "execute_result"
    }
   ],
   "source": [
    "Test.head()"
   ]
  },
  {
   "cell_type": "code",
   "execution_count": 12,
   "metadata": {},
   "outputs": [
    {
     "data": {
      "text/html": [
       "<div>\n",
       "<style scoped>\n",
       "    .dataframe tbody tr th:only-of-type {\n",
       "        vertical-align: middle;\n",
       "    }\n",
       "\n",
       "    .dataframe tbody tr th {\n",
       "        vertical-align: top;\n",
       "    }\n",
       "\n",
       "    .dataframe thead th {\n",
       "        text-align: right;\n",
       "    }\n",
       "</style>\n",
       "<table border=\"1\" class=\"dataframe\">\n",
       "  <thead>\n",
       "    <tr style=\"text-align: right;\">\n",
       "      <th></th>\n",
       "      <th>ID</th>\n",
       "      <th>Person unique/random identification</th>\n",
       "      <th>For columns(Q1 - Q28), Value 1 - Yes, 2 - No, 3-Don’t Know 4 - refused to answer</th>\n",
       "    </tr>\n",
       "  </thead>\n",
       "  <tbody>\n",
       "    <tr>\n",
       "      <th>0</th>\n",
       "      <td>country</td>\n",
       "      <td>The country</td>\n",
       "      <td>NaN</td>\n",
       "    </tr>\n",
       "    <tr>\n",
       "      <th>1</th>\n",
       "      <td>region</td>\n",
       "      <td>Region of a given country,.i.e., South Asia, E...</td>\n",
       "      <td>NaN</td>\n",
       "    </tr>\n",
       "    <tr>\n",
       "      <th>2</th>\n",
       "      <td>population</td>\n",
       "      <td>The population of the given country</td>\n",
       "      <td>NaN</td>\n",
       "    </tr>\n",
       "    <tr>\n",
       "      <th>3</th>\n",
       "      <td>age</td>\n",
       "      <td>Individual age</td>\n",
       "      <td>NaN</td>\n",
       "    </tr>\n",
       "    <tr>\n",
       "      <th>4</th>\n",
       "      <td>Q1</td>\n",
       "      <td>Has ATM/debit card</td>\n",
       "      <td>NaN</td>\n",
       "    </tr>\n",
       "    <tr>\n",
       "      <th>5</th>\n",
       "      <td>Q2</td>\n",
       "      <td>Is the ATM connect to an account with your name?</td>\n",
       "      <td>NaN</td>\n",
       "    </tr>\n",
       "    <tr>\n",
       "      <th>6</th>\n",
       "      <td>Q3</td>\n",
       "      <td>Purchased with the ATM</td>\n",
       "      <td>NaN</td>\n",
       "    </tr>\n",
       "    <tr>\n",
       "      <th>7</th>\n",
       "      <td>Q4</td>\n",
       "      <td>Use of mobile or internet to make payments or ...</td>\n",
       "      <td>NaN</td>\n",
       "    </tr>\n",
       "    <tr>\n",
       "      <th>8</th>\n",
       "      <td>Q5</td>\n",
       "      <td>Mobile/internet to check account balance</td>\n",
       "      <td>NaN</td>\n",
       "    </tr>\n",
       "    <tr>\n",
       "      <th>9</th>\n",
       "      <td>Q6</td>\n",
       "      <td>Has a credit card</td>\n",
       "      <td>NaN</td>\n",
       "    </tr>\n",
       "    <tr>\n",
       "      <th>10</th>\n",
       "      <td>Q7</td>\n",
       "      <td>Used the credit card in 12 months</td>\n",
       "      <td>NaN</td>\n",
       "    </tr>\n",
       "    <tr>\n",
       "      <th>11</th>\n",
       "      <td>Q8</td>\n",
       "      <td>Money deposits to a bank account in the last 1...</td>\n",
       "      <td>NaN</td>\n",
       "    </tr>\n",
       "    <tr>\n",
       "      <th>12</th>\n",
       "      <td>Q9</td>\n",
       "      <td>Money withdrawals from a bank account in the l...</td>\n",
       "      <td>NaN</td>\n",
       "    </tr>\n",
       "    <tr>\n",
       "      <th>13</th>\n",
       "      <td>Q10a</td>\n",
       "      <td>Used the Internet in the last 12 months;- to m...</td>\n",
       "      <td>NaN</td>\n",
       "    </tr>\n",
       "    <tr>\n",
       "      <th>14</th>\n",
       "      <td>Q10b</td>\n",
       "      <td>Used the Internet in the last 12 months;- to b...</td>\n",
       "      <td>NaN</td>\n",
       "    </tr>\n",
       "    <tr>\n",
       "      <th>15</th>\n",
       "      <td>Q11</td>\n",
       "      <td>Savings in the last 12 months to start a busin...</td>\n",
       "      <td>NaN</td>\n",
       "    </tr>\n",
       "    <tr>\n",
       "      <th>16</th>\n",
       "      <td>Q12</td>\n",
       "      <td>Savings in the last 12 months for old age</td>\n",
       "      <td>NaN</td>\n",
       "    </tr>\n",
       "    <tr>\n",
       "      <th>17</th>\n",
       "      <td>Q13a</td>\n",
       "      <td>Saved the money at a bank/financial institutions</td>\n",
       "      <td>NaN</td>\n",
       "    </tr>\n",
       "    <tr>\n",
       "      <th>18</th>\n",
       "      <td>Q13b</td>\n",
       "      <td>Save the money at groups/clubs of any informal...</td>\n",
       "      <td>NaN</td>\n",
       "    </tr>\n",
       "    <tr>\n",
       "      <th>19</th>\n",
       "      <td>Q14</td>\n",
       "      <td>Has a loan from formal financial institutions ...</td>\n",
       "      <td>NaN</td>\n",
       "    </tr>\n",
       "    <tr>\n",
       "      <th>20</th>\n",
       "      <td>Q15</td>\n",
       "      <td>Borrowed money for health/medical purposes in ...</td>\n",
       "      <td>NaN</td>\n",
       "    </tr>\n",
       "    <tr>\n",
       "      <th>21</th>\n",
       "      <td>Q16</td>\n",
       "      <td>Borrowed money to start/grow business or farm</td>\n",
       "      <td>NaN</td>\n",
       "    </tr>\n",
       "    <tr>\n",
       "      <th>22</th>\n",
       "      <td>Q17a</td>\n",
       "      <td>Borrowed money from formal financial instituti...</td>\n",
       "      <td>NaN</td>\n",
       "    </tr>\n",
       "    <tr>\n",
       "      <th>23</th>\n",
       "      <td>Q17b</td>\n",
       "      <td>Borrowed money from friends, relatives, or fam...</td>\n",
       "      <td>NaN</td>\n",
       "    </tr>\n",
       "    <tr>\n",
       "      <th>24</th>\n",
       "      <td>Q19</td>\n",
       "      <td>Sent/given money to friend/relative</td>\n",
       "      <td>NaN</td>\n",
       "    </tr>\n",
       "    <tr>\n",
       "      <th>25</th>\n",
       "      <td>Q20</td>\n",
       "      <td>Received money from friend or relative</td>\n",
       "      <td>NaN</td>\n",
       "    </tr>\n",
       "    <tr>\n",
       "      <th>26</th>\n",
       "      <td>Q21</td>\n",
       "      <td>Payments for electricity, water, or trash in t...</td>\n",
       "      <td>NaN</td>\n",
       "    </tr>\n",
       "    <tr>\n",
       "      <th>27</th>\n",
       "      <td>Q22</td>\n",
       "      <td>salary/wages in the last 12 months</td>\n",
       "      <td>NaN</td>\n",
       "    </tr>\n",
       "    <tr>\n",
       "      <th>28</th>\n",
       "      <td>Q23</td>\n",
       "      <td>Employed by government or public sector -12 mo...</td>\n",
       "      <td>NaN</td>\n",
       "    </tr>\n",
       "    <tr>\n",
       "      <th>29</th>\n",
       "      <td>Q24</td>\n",
       "      <td>Received any form of financial support from th...</td>\n",
       "      <td>NaN</td>\n",
       "    </tr>\n",
       "    <tr>\n",
       "      <th>30</th>\n",
       "      <td>Q25</td>\n",
       "      <td>Pension in the last 12 months</td>\n",
       "      <td>NaN</td>\n",
       "    </tr>\n",
       "    <tr>\n",
       "      <th>31</th>\n",
       "      <td>Q26</td>\n",
       "      <td>Received money for the sale of livestock, agri...</td>\n",
       "      <td>NaN</td>\n",
       "    </tr>\n",
       "    <tr>\n",
       "      <th>32</th>\n",
       "      <td>Q27</td>\n",
       "      <td>Received money from your business in last 12 m...</td>\n",
       "      <td>NaN</td>\n",
       "    </tr>\n",
       "    <tr>\n",
       "      <th>33</th>\n",
       "      <td>owns_mobile</td>\n",
       "      <td>Owns a mobile phone</td>\n",
       "      <td>NaN</td>\n",
       "    </tr>\n",
       "    <tr>\n",
       "      <th>34</th>\n",
       "      <td>Q28</td>\n",
       "      <td>Has national ID card</td>\n",
       "      <td>NaN</td>\n",
       "    </tr>\n",
       "    <tr>\n",
       "      <th>35</th>\n",
       "      <td>target</td>\n",
       "      <td>target class</td>\n",
       "      <td>NaN</td>\n",
       "    </tr>\n",
       "  </tbody>\n",
       "</table>\n",
       "</div>"
      ],
      "text/plain": [
       "             ID                Person unique/random identification  \\\n",
       "0       country                                        The country   \n",
       "1        region  Region of a given country,.i.e., South Asia, E...   \n",
       "2    population                The population of the given country   \n",
       "3           age                                     Individual age   \n",
       "4            Q1                                 Has ATM/debit card   \n",
       "5            Q2   Is the ATM connect to an account with your name?   \n",
       "6            Q3                             Purchased with the ATM   \n",
       "7            Q4  Use of mobile or internet to make payments or ...   \n",
       "8            Q5           Mobile/internet to check account balance   \n",
       "9            Q6                                  Has a credit card   \n",
       "10           Q7                  Used the credit card in 12 months   \n",
       "11           Q8  Money deposits to a bank account in the last 1...   \n",
       "12           Q9  Money withdrawals from a bank account in the l...   \n",
       "13         Q10a  Used the Internet in the last 12 months;- to m...   \n",
       "14         Q10b  Used the Internet in the last 12 months;- to b...   \n",
       "15          Q11  Savings in the last 12 months to start a busin...   \n",
       "16          Q12          Savings in the last 12 months for old age   \n",
       "17         Q13a   Saved the money at a bank/financial institutions   \n",
       "18         Q13b  Save the money at groups/clubs of any informal...   \n",
       "19          Q14  Has a loan from formal financial institutions ...   \n",
       "20          Q15  Borrowed money for health/medical purposes in ...   \n",
       "21          Q16      Borrowed money to start/grow business or farm   \n",
       "22         Q17a  Borrowed money from formal financial instituti...   \n",
       "23         Q17b  Borrowed money from friends, relatives, or fam...   \n",
       "24          Q19                Sent/given money to friend/relative   \n",
       "25          Q20             Received money from friend or relative   \n",
       "26          Q21  Payments for electricity, water, or trash in t...   \n",
       "27          Q22                 salary/wages in the last 12 months   \n",
       "28          Q23  Employed by government or public sector -12 mo...   \n",
       "29          Q24  Received any form of financial support from th...   \n",
       "30          Q25                      Pension in the last 12 months   \n",
       "31          Q26  Received money for the sale of livestock, agri...   \n",
       "32          Q27  Received money from your business in last 12 m...   \n",
       "33  owns_mobile                                Owns a mobile phone   \n",
       "34          Q28                               Has national ID card   \n",
       "35       target                                       target class   \n",
       "\n",
       "    For columns(Q1 - Q28), Value 1 - Yes, 2 - No, 3-Don’t Know 4 - refused to answer  \n",
       "0                                                 NaN                                 \n",
       "1                                                 NaN                                 \n",
       "2                                                 NaN                                 \n",
       "3                                                 NaN                                 \n",
       "4                                                 NaN                                 \n",
       "5                                                 NaN                                 \n",
       "6                                                 NaN                                 \n",
       "7                                                 NaN                                 \n",
       "8                                                 NaN                                 \n",
       "9                                                 NaN                                 \n",
       "10                                                NaN                                 \n",
       "11                                                NaN                                 \n",
       "12                                                NaN                                 \n",
       "13                                                NaN                                 \n",
       "14                                                NaN                                 \n",
       "15                                                NaN                                 \n",
       "16                                                NaN                                 \n",
       "17                                                NaN                                 \n",
       "18                                                NaN                                 \n",
       "19                                                NaN                                 \n",
       "20                                                NaN                                 \n",
       "21                                                NaN                                 \n",
       "22                                                NaN                                 \n",
       "23                                                NaN                                 \n",
       "24                                                NaN                                 \n",
       "25                                                NaN                                 \n",
       "26                                                NaN                                 \n",
       "27                                                NaN                                 \n",
       "28                                                NaN                                 \n",
       "29                                                NaN                                 \n",
       "30                                                NaN                                 \n",
       "31                                                NaN                                 \n",
       "32                                                NaN                                 \n",
       "33                                                NaN                                 \n",
       "34                                                NaN                                 \n",
       "35                                                NaN                                 "
      ]
     },
     "execution_count": 12,
     "metadata": {},
     "output_type": "execute_result"
    }
   ],
   "source": [
    "VariableDefinition"
   ]
  },
  {
   "cell_type": "code",
   "execution_count": 15,
   "metadata": {},
   "outputs": [
    {
     "name": "stdout",
     "output_type": "stream",
     "text": [
      "The size of the training dataset is (104867, 36) and the test is (44943, 35)\n"
     ]
    }
   ],
   "source": [
    "print(f\"The size of the training dataset is {Train.shape} and the test is {Test.shape}\")"
   ]
  },
  {
   "cell_type": "markdown",
   "metadata": {},
   "source": [
    "# Checking for Missing values"
   ]
  },
  {
   "cell_type": "code",
   "execution_count": 18,
   "metadata": {},
   "outputs": [
    {
     "data": {
      "text/plain": [
       "Text(0.5, 1.0, 'Percentage of missing Values in the Train dataset')"
      ]
     },
     "execution_count": 18,
     "metadata": {},
     "output_type": "execute_result"
    },
    {
     "data": {
      "image/png": "[encoded data removed]",
      "text/plain": [
       "<Figure size 648x720 with 1 Axes>"
      ]
     },
     "metadata": {
      "needs_background": "light"
     },
     "output_type": "display_data"
    }
   ],
   "source": [
    "ax = Train.isna().sum().sort_values().plot(kind='barh',figsize =(9,10))\n",
    "plt.title('Percentage of missing Values in the Train dataset')"
   ]
  },
  {
   "cell_type": "code",
   "execution_count": 20,
   "metadata": {},
   "outputs": [
    {
     "data": {
      "text/plain": [
       "Text(0.5, 1.0, 'Missing values in the Test data')"
      ]
     },
     "execution_count": 20,
     "metadata": {},
     "output_type": "execute_result"
    },
    {
     "data": {
      "image/png": "[encoded data removed]",
      "text/plain": [
       "<Figure size 648x720 with 1 Axes>"
      ]
     },
     "metadata": {
      "needs_background": "light"
     },
     "output_type": "display_data"
    }
   ],
   "source": [
    "#check for missing values in the test data\n",
    "ax = Test.isna().sum().sort_values().plot(kind='barh',figsize=(9,10))\n",
    "plt.title('Missing values in the Test data')"
   ]
  },
  {
   "cell_type": "code",
   "execution_count": 26,
   "metadata": {},
   "outputs": [
    {
     "data": {
      "text/plain": [
       "(False, False)"
      ]
     },
     "execution_count": 26,
     "metadata": {},
     "output_type": "execute_result"
    }
   ],
   "source": [
    "#check for duplicates in train,test\n",
    "Train.duplicated().any(),Test.duplicated().any()"
   ]
  },
  {
   "cell_type": "code",
   "execution_count": 31,
   "metadata": {},
   "outputs": [
    {
     "name": "stderr",
     "output_type": "stream",
     "text": [
      "/Users/julioboss/anaconda3/lib/python3.8/site-packages/seaborn/_decorators.py:36: FutureWarning: Pass the following variable as a keyword arg: x. From version 0.12, the only valid positional argument will be `data`, and passing other arguments without an explicit keyword will result in an error or misinterpretation.\n",
      "  warnings.warn(\n"
     ]
    },
    {
     "data": {
      "text/plain": [
       "Text(0.5, 1.0, 'Target Variable Distribution')"
      ]
     },
     "execution_count": 31,
     "metadata": {},
     "output_type": "execute_result"
    },
    {
     "data": {
      "image/png": "[encoded data removed]",
      "text/plain": [
       "<Figure size 504x504 with 1 Axes>"
      ]
     },
     "metadata": {
      "needs_background": "light"
     },
     "output_type": "display_data"
    }
   ],
   "source": [
    "#Distribution the target variable\n",
    "plt.figure(figsize=(7,7))\n",
    "sns.countplot(Train.target)\n",
    "plt.title('Target Variable Distribution')"
   ]
  },
  {
   "cell_type": "markdown",
   "metadata": {},
   "source": [
    "*From the above plot we can see that the majority class can make payments even in emergency*"
   ]
  },
  {
   "cell_type": "code",
   "execution_count": 35,
   "metadata": {},
   "outputs": [
    {
     "name": "stderr",
     "output_type": "stream",
     "text": [
      "/Users/julioboss/anaconda3/lib/python3.8/site-packages/seaborn/_decorators.py:36: FutureWarning: Pass the following variable as a keyword arg: x. From version 0.12, the only valid positional argument will be `data`, and passing other arguments without an explicit keyword will result in an error or misinterpretation.\n",
      "  warnings.warn(\n"
     ]
    },
    {
     "data": {
      "text/plain": [
       "Text(0.5, 1.0, 'Q8 - Has Deposited any Monet to the Bank in the Last 12 Months')"
      ]
     },
     "execution_count": 35,
     "metadata": {},
     "output_type": "execute_result"
    },
    {
     "data": {
      "image/png": "[encoded data removed]",
      "text/plain": [
       "<Figure size 432x288 with 1 Axes>"
      ]
     },
     "metadata": {
      "needs_background": "light"
     },
     "output_type": "display_data"
    }
   ],
   "source": [
    "#Q8 - Has deposited money in the last 12 months\n",
    "ax = sns.countplot(Train.Q8)\n",
    "ax.set_xticklabels(['Yes', 'No', 'Don\"t Know', 'Refused to answer'],rotation=45)\n",
    "plt.title('Q8 - Has Deposited any Monet to the Bank in the Last 12 Months')"
   ]
  },
  {
   "cell_type": "markdown",
   "metadata": {},
   "source": [
    "*This shows majority made deposit in the last 12 months*"
   ]
  },
  {
   "cell_type": "markdown",
   "metadata": {},
   "source": [
    "# Combine Train and Test Data for easy preprocessing"
   ]
  },
  {
   "cell_type": "code",
   "execution_count": 38,
   "metadata": {},
   "outputs": [
    {
     "name": "stdout",
     "output_type": "stream",
     "text": [
      "The New data set contains (149810, 36)\n"
     ]
    }
   ],
   "source": [
    "#Combine the test and the trainging data set\n",
    "datalength = Train.shape[0]\n",
    "\n",
    "all_data = pd.concat((Train,Test)).reset_index(drop=True)\n",
    "print(f\"The New data set contains {all_data.shape}\")"
   ]
  },
  {
   "cell_type": "code",
   "execution_count": 39,
   "metadata": {},
   "outputs": [
    {
     "name": "stdout",
     "output_type": "stream",
     "text": [
      "<class 'pandas.core.frame.DataFrame'>\n",
      "RangeIndex: 149810 entries, 0 to 149809\n",
      "Data columns (total 36 columns):\n",
      " #   Column       Non-Null Count   Dtype  \n",
      "---  ------       --------------   -----  \n",
      " 0   ID           149810 non-null  object \n",
      " 1   country      149810 non-null  object \n",
      " 2   region       148830 non-null  object \n",
      " 3   population   149810 non-null  float64\n",
      " 4   age          149399 non-null  float64\n",
      " 5   Q1           149810 non-null  int64  \n",
      " 6   Q2           68137 non-null   float64\n",
      " 7   Q3           64562 non-null   float64\n",
      " 8   Q4           82004 non-null   float64\n",
      " 9   Q5           82004 non-null   float64\n",
      " 10  Q6           149810 non-null  int64  \n",
      " 11  Q7           29515 non-null   float64\n",
      " 12  Q8           84272 non-null   float64\n",
      " 13  Q9           84272 non-null   float64\n",
      " 14  Q10a         149810 non-null  int64  \n",
      " 15  Q10b         149810 non-null  int64  \n",
      " 16  Q11          149810 non-null  int64  \n",
      " 17  Q12          149810 non-null  int64  \n",
      " 18  Q13a         149810 non-null  int64  \n",
      " 19  Q14          149810 non-null  int64  \n",
      " 20  Q15          149810 non-null  int64  \n",
      " 21  Q16          149810 non-null  int64  \n",
      " 22  Q17a         149810 non-null  int64  \n",
      " 23  Q17b         149810 non-null  int64  \n",
      " 24  Q19          115206 non-null  float64\n",
      " 25  Q20          115206 non-null  float64\n",
      " 26  Q21          149810 non-null  int64  \n",
      " 27  Q22          149810 non-null  int64  \n",
      " 28  Q23          53580 non-null   float64\n",
      " 29  Q24          149810 non-null  int64  \n",
      " 30  Q25          149810 non-null  int64  \n",
      " 31  Q26          115206 non-null  float64\n",
      " 32  Q27          83535 non-null   float64\n",
      " 33  owns_mobile  149808 non-null  float64\n",
      " 34  Q28          105372 non-null  float64\n",
      " 35  target       104867 non-null  float64\n",
      "dtypes: float64(17), int64(16), object(3)\n",
      "memory usage: 41.1+ MB\n"
     ]
    }
   ],
   "source": [
    "all_data.info()"
   ]
  },
  {
   "cell_type": "code",
   "execution_count": 42,
   "metadata": {},
   "outputs": [],
   "source": [
    "#Categorical columns\n",
    "cat_cols = ['country','region','owns_mobile'] + [x for x in all_data.columns if x.startswith('Q')]\n",
    "#Numerical columns\n",
    "num_cols = ['population','age']"
   ]
  },
  {
   "cell_type": "code",
   "execution_count": 46,
   "metadata": {},
   "outputs": [],
   "source": [
    "#change the data type to category\n",
    "all_data[cat_cols] = all_data[cat_cols].astype('category')"
   ]
  },
  {
   "cell_type": "code",
   "execution_count": 45,
   "metadata": {
    "scrolled": true
   },
   "outputs": [
    {
     "name": "stdout",
     "output_type": "stream",
     "text": [
      "<class 'pandas.core.frame.DataFrame'>\n",
      "RangeIndex: 149810 entries, 0 to 149809\n",
      "Data columns (total 36 columns):\n",
      " #   Column       Non-Null Count   Dtype   \n",
      "---  ------       --------------   -----   \n",
      " 0   ID           149810 non-null  object  \n",
      " 1   country      149810 non-null  category\n",
      " 2   region       148830 non-null  category\n",
      " 3   population   149810 non-null  float64 \n",
      " 4   age          149399 non-null  float64 \n",
      " 5   Q1           149810 non-null  category\n",
      " 6   Q2           68137 non-null   category\n",
      " 7   Q3           64562 non-null   category\n",
      " 8   Q4           82004 non-null   category\n",
      " 9   Q5           82004 non-null   category\n",
      " 10  Q6           149810 non-null  category\n",
      " 11  Q7           29515 non-null   category\n",
      " 12  Q8           84272 non-null   category\n",
      " 13  Q9           84272 non-null   category\n",
      " 14  Q10a         149810 non-null  category\n",
      " 15  Q10b         149810 non-null  category\n",
      " 16  Q11          149810 non-null  category\n",
      " 17  Q12          149810 non-null  category\n",
      " 18  Q13a         149810 non-null  category\n",
      " 19  Q14          149810 non-null  category\n",
      " 20  Q15          149810 non-null  category\n",
      " 21  Q16          149810 non-null  category\n",
      " 22  Q17a         149810 non-null  category\n",
      " 23  Q17b         149810 non-null  category\n",
      " 24  Q19          115206 non-null  category\n",
      " 25  Q20          115206 non-null  category\n",
      " 26  Q21          149810 non-null  category\n",
      " 27  Q22          149810 non-null  category\n",
      " 28  Q23          53580 non-null   category\n",
      " 29  Q24          149810 non-null  category\n",
      " 30  Q25          149810 non-null  category\n",
      " 31  Q26          115206 non-null  category\n",
      " 32  Q27          83535 non-null   category\n",
      " 33  owns_mobile  149808 non-null  category\n",
      " 34  Q28          105372 non-null  category\n",
      " 35  target       104867 non-null  float64 \n",
      "dtypes: category(32), float64(3), object(1)\n",
      "memory usage: 9.3+ MB\n"
     ]
    }
   ],
   "source": [
    "all_data.info()"
   ]
  },
  {
   "cell_type": "markdown",
   "metadata": {},
   "source": [
    "# Unique values per column "
   ]
  },
  {
   "cell_type": "code",
   "execution_count": 47,
   "metadata": {},
   "outputs": [
    {
     "name": "stdout",
     "output_type": "stream",
     "text": [
      "country 144\n",
      "region 8\n",
      "owns_mobile 4\n",
      "Q1 4\n",
      "Q2 4\n",
      "Q3 4\n",
      "Q4 4\n",
      "Q5 4\n",
      "Q6 4\n",
      "Q7 4\n",
      "Q8 4\n",
      "Q9 4\n",
      "Q10a 4\n",
      "Q10b 4\n",
      "Q11 4\n",
      "Q12 4\n",
      "Q13a 4\n",
      "Q14 4\n",
      "Q15 4\n",
      "Q16 4\n",
      "Q17a 4\n",
      "Q17b 4\n",
      "Q19 4\n",
      "Q20 4\n",
      "Q21 4\n",
      "Q22 4\n",
      "Q23 4\n",
      "Q24 4\n",
      "Q25 4\n",
      "Q26 4\n",
      "Q27 4\n",
      "Q28 4\n"
     ]
    }
   ],
   "source": [
    "for col in cat_cols:\n",
    "    print(col,all_data[col].nunique())"
   ]
  },
  {
   "cell_type": "markdown",
   "metadata": {},
   "source": [
    "# Filling in the missing Values"
   ]
  },
  {
   "cell_type": "code",
   "execution_count": 51,
   "metadata": {},
   "outputs": [
    {
     "data": {
      "text/plain": [
       "1.0"
      ]
     },
     "execution_count": 51,
     "metadata": {},
     "output_type": "execute_result"
    }
   ],
   "source": [
    "all_data[col].mode()[0]"
   ]
  },
  {
   "cell_type": "code",
   "execution_count": 55,
   "metadata": {},
   "outputs": [
    {
     "data": {
      "text/plain": [
       "False"
      ]
     },
     "execution_count": 55,
     "metadata": {},
     "output_type": "execute_result"
    }
   ],
   "source": [
    "for col in all_data.columns:\n",
    "    if col in cat_cols:\n",
    "        all_data[col] = all_data[col].fillna(all_data[col].mode()[0])\n",
    "    elif col in num_cols:\n",
    "        all_data[col] = all_data[col].fillna(all_data[col].fillna(9999))\n",
    "        \n",
    "        \n",
    "#confirm that there arent any missing values in the columns aside the target variable\n",
    "all_data[all_data.columns.difference(['target'])].isna().sum().any()"
   ]
  },
  {
   "cell_type": "code",
   "execution_count": 56,
   "metadata": {},
   "outputs": [
    {
     "data": {
      "text/plain": [
       "(149810, 36)"
      ]
     },
     "execution_count": 56,
     "metadata": {},
     "output_type": "execute_result"
    }
   ],
   "source": [
    "all_data.shape"
   ]
  },
  {
   "cell_type": "markdown",
   "metadata": {},
   "source": [
    "# Feature Engineering\n"
   ]
  },
  {
   "cell_type": "code",
   "execution_count": 57,
   "metadata": {},
   "outputs": [
    {
     "data": {
      "text/html": [
       "<div>\n",
       "<style scoped>\n",
       "    .dataframe tbody tr th:only-of-type {\n",
       "        vertical-align: middle;\n",
       "    }\n",
       "\n",
       "    .dataframe tbody tr th {\n",
       "        vertical-align: top;\n",
       "    }\n",
       "\n",
       "    .dataframe thead th {\n",
       "        text-align: right;\n",
       "    }\n",
       "</style>\n",
       "<table border=\"1\" class=\"dataframe\">\n",
       "  <thead>\n",
       "    <tr style=\"text-align: right;\">\n",
       "      <th></th>\n",
       "      <th>ID</th>\n",
       "      <th>population</th>\n",
       "      <th>age</th>\n",
       "      <th>target</th>\n",
       "      <th>country_Afghanistan</th>\n",
       "      <th>country_Albania</th>\n",
       "      <th>country_Algeria</th>\n",
       "      <th>country_Argentina</th>\n",
       "      <th>country_Armenia</th>\n",
       "      <th>country_Australia</th>\n",
       "      <th>...</th>\n",
       "      <th>Q26_3.0</th>\n",
       "      <th>Q26_4.0</th>\n",
       "      <th>Q27_1.0</th>\n",
       "      <th>Q27_2.0</th>\n",
       "      <th>Q27_3.0</th>\n",
       "      <th>Q27_4.0</th>\n",
       "      <th>Q28_1.0</th>\n",
       "      <th>Q28_2.0</th>\n",
       "      <th>Q28_3.0</th>\n",
       "      <th>Q28_4.0</th>\n",
       "    </tr>\n",
       "  </thead>\n",
       "  <tbody>\n",
       "    <tr>\n",
       "      <th>0</th>\n",
       "      <td>ID_0000020532</td>\n",
       "      <td>25550170.0</td>\n",
       "      <td>66.0</td>\n",
       "      <td>0.0</td>\n",
       "      <td>0</td>\n",
       "      <td>0</td>\n",
       "      <td>0</td>\n",
       "      <td>0</td>\n",
       "      <td>0</td>\n",
       "      <td>0</td>\n",
       "      <td>...</td>\n",
       "      <td>0</td>\n",
       "      <td>0</td>\n",
       "      <td>0</td>\n",
       "      <td>1</td>\n",
       "      <td>0</td>\n",
       "      <td>0</td>\n",
       "      <td>1</td>\n",
       "      <td>0</td>\n",
       "      <td>0</td>\n",
       "      <td>0</td>\n",
       "    </tr>\n",
       "    <tr>\n",
       "      <th>1</th>\n",
       "      <td>ID_0000075765</td>\n",
       "      <td>4591023.0</td>\n",
       "      <td>44.0</td>\n",
       "      <td>1.0</td>\n",
       "      <td>0</td>\n",
       "      <td>0</td>\n",
       "      <td>0</td>\n",
       "      <td>0</td>\n",
       "      <td>0</td>\n",
       "      <td>0</td>\n",
       "      <td>...</td>\n",
       "      <td>0</td>\n",
       "      <td>0</td>\n",
       "      <td>1</td>\n",
       "      <td>0</td>\n",
       "      <td>0</td>\n",
       "      <td>0</td>\n",
       "      <td>1</td>\n",
       "      <td>0</td>\n",
       "      <td>0</td>\n",
       "      <td>0</td>\n",
       "    </tr>\n",
       "    <tr>\n",
       "      <th>2</th>\n",
       "      <td>ID_0000085491</td>\n",
       "      <td>25550170.0</td>\n",
       "      <td>29.0</td>\n",
       "      <td>0.0</td>\n",
       "      <td>0</td>\n",
       "      <td>0</td>\n",
       "      <td>0</td>\n",
       "      <td>0</td>\n",
       "      <td>0</td>\n",
       "      <td>0</td>\n",
       "      <td>...</td>\n",
       "      <td>0</td>\n",
       "      <td>0</td>\n",
       "      <td>0</td>\n",
       "      <td>1</td>\n",
       "      <td>0</td>\n",
       "      <td>0</td>\n",
       "      <td>1</td>\n",
       "      <td>0</td>\n",
       "      <td>0</td>\n",
       "      <td>0</td>\n",
       "    </tr>\n",
       "    <tr>\n",
       "      <th>3</th>\n",
       "      <td>ID_0000144505</td>\n",
       "      <td>30491168.0</td>\n",
       "      <td>44.0</td>\n",
       "      <td>1.0</td>\n",
       "      <td>0</td>\n",
       "      <td>0</td>\n",
       "      <td>0</td>\n",
       "      <td>0</td>\n",
       "      <td>0</td>\n",
       "      <td>0</td>\n",
       "      <td>...</td>\n",
       "      <td>0</td>\n",
       "      <td>0</td>\n",
       "      <td>0</td>\n",
       "      <td>1</td>\n",
       "      <td>0</td>\n",
       "      <td>0</td>\n",
       "      <td>1</td>\n",
       "      <td>0</td>\n",
       "      <td>0</td>\n",
       "      <td>0</td>\n",
       "    </tr>\n",
       "    <tr>\n",
       "      <th>4</th>\n",
       "      <td>ID_0000214184</td>\n",
       "      <td>93002320.0</td>\n",
       "      <td>36.0</td>\n",
       "      <td>1.0</td>\n",
       "      <td>0</td>\n",
       "      <td>0</td>\n",
       "      <td>0</td>\n",
       "      <td>0</td>\n",
       "      <td>0</td>\n",
       "      <td>0</td>\n",
       "      <td>...</td>\n",
       "      <td>0</td>\n",
       "      <td>0</td>\n",
       "      <td>0</td>\n",
       "      <td>1</td>\n",
       "      <td>0</td>\n",
       "      <td>0</td>\n",
       "      <td>1</td>\n",
       "      <td>0</td>\n",
       "      <td>0</td>\n",
       "      <td>0</td>\n",
       "    </tr>\n",
       "  </tbody>\n",
       "</table>\n",
       "<p>5 rows × 276 columns</p>\n",
       "</div>"
      ],
      "text/plain": [
       "              ID  population   age  target  country_Afghanistan  \\\n",
       "0  ID_0000020532  25550170.0  66.0     0.0                    0   \n",
       "1  ID_0000075765   4591023.0  44.0     1.0                    0   \n",
       "2  ID_0000085491  25550170.0  29.0     0.0                    0   \n",
       "3  ID_0000144505  30491168.0  44.0     1.0                    0   \n",
       "4  ID_0000214184  93002320.0  36.0     1.0                    0   \n",
       "\n",
       "   country_Albania  country_Algeria  country_Argentina  country_Armenia  \\\n",
       "0                0                0                  0                0   \n",
       "1                0                0                  0                0   \n",
       "2                0                0                  0                0   \n",
       "3                0                0                  0                0   \n",
       "4                0                0                  0                0   \n",
       "\n",
       "   country_Australia  ...  Q26_3.0  Q26_4.0  Q27_1.0  Q27_2.0  Q27_3.0  \\\n",
       "0                  0  ...        0        0        0        1        0   \n",
       "1                  0  ...        0        0        1        0        0   \n",
       "2                  0  ...        0        0        0        1        0   \n",
       "3                  0  ...        0        0        0        1        0   \n",
       "4                  0  ...        0        0        0        1        0   \n",
       "\n",
       "   Q27_4.0  Q28_1.0  Q28_2.0  Q28_3.0  Q28_4.0  \n",
       "0        0        1        0        0        0  \n",
       "1        0        1        0        0        0  \n",
       "2        0        1        0        0        0  \n",
       "3        0        1        0        0        0  \n",
       "4        0        1        0        0        0  \n",
       "\n",
       "[5 rows x 276 columns]"
      ]
     },
     "execution_count": 57,
     "metadata": {},
     "output_type": "execute_result"
    }
   ],
   "source": [
    "all_data = pd.get_dummies(data=all_data,columns=cat_cols)\n",
    "all_data.head()"
   ]
  },
  {
   "cell_type": "code",
   "execution_count": 58,
   "metadata": {},
   "outputs": [
    {
     "data": {
      "text/plain": [
       "(149810, 276)"
      ]
     },
     "execution_count": 58,
     "metadata": {},
     "output_type": "execute_result"
    }
   ],
   "source": [
    "all_data.shape"
   ]
  },
  {
   "cell_type": "code",
   "execution_count": 59,
   "metadata": {},
   "outputs": [],
   "source": [
    "TrainDf= all_data[:datalength]\n",
    "TestDf = all_data[datalength:]"
   ]
  },
  {
   "cell_type": "code",
   "execution_count": 60,
   "metadata": {},
   "outputs": [
    {
     "data": {
      "text/html": [
       "<div>\n",
       "<style scoped>\n",
       "    .dataframe tbody tr th:only-of-type {\n",
       "        vertical-align: middle;\n",
       "    }\n",
       "\n",
       "    .dataframe tbody tr th {\n",
       "        vertical-align: top;\n",
       "    }\n",
       "\n",
       "    .dataframe thead th {\n",
       "        text-align: right;\n",
       "    }\n",
       "</style>\n",
       "<table border=\"1\" class=\"dataframe\">\n",
       "  <thead>\n",
       "    <tr style=\"text-align: right;\">\n",
       "      <th></th>\n",
       "      <th>ID</th>\n",
       "      <th>population</th>\n",
       "      <th>age</th>\n",
       "      <th>target</th>\n",
       "      <th>country_Afghanistan</th>\n",
       "      <th>country_Albania</th>\n",
       "      <th>country_Algeria</th>\n",
       "      <th>country_Argentina</th>\n",
       "      <th>country_Armenia</th>\n",
       "      <th>country_Australia</th>\n",
       "      <th>...</th>\n",
       "      <th>Q26_3.0</th>\n",
       "      <th>Q26_4.0</th>\n",
       "      <th>Q27_1.0</th>\n",
       "      <th>Q27_2.0</th>\n",
       "      <th>Q27_3.0</th>\n",
       "      <th>Q27_4.0</th>\n",
       "      <th>Q28_1.0</th>\n",
       "      <th>Q28_2.0</th>\n",
       "      <th>Q28_3.0</th>\n",
       "      <th>Q28_4.0</th>\n",
       "    </tr>\n",
       "  </thead>\n",
       "  <tbody>\n",
       "    <tr>\n",
       "      <th>104867</th>\n",
       "      <td>ID_0000005111</td>\n",
       "      <td>3.557444e+06</td>\n",
       "      <td>62.0</td>\n",
       "      <td>NaN</td>\n",
       "      <td>0</td>\n",
       "      <td>0</td>\n",
       "      <td>0</td>\n",
       "      <td>0</td>\n",
       "      <td>0</td>\n",
       "      <td>0</td>\n",
       "      <td>...</td>\n",
       "      <td>0</td>\n",
       "      <td>0</td>\n",
       "      <td>0</td>\n",
       "      <td>1</td>\n",
       "      <td>0</td>\n",
       "      <td>0</td>\n",
       "      <td>1</td>\n",
       "      <td>0</td>\n",
       "      <td>0</td>\n",
       "      <td>0</td>\n",
       "    </tr>\n",
       "    <tr>\n",
       "      <th>104868</th>\n",
       "      <td>ID_0000389416</td>\n",
       "      <td>1.292017e+07</td>\n",
       "      <td>32.0</td>\n",
       "      <td>NaN</td>\n",
       "      <td>0</td>\n",
       "      <td>0</td>\n",
       "      <td>0</td>\n",
       "      <td>0</td>\n",
       "      <td>0</td>\n",
       "      <td>0</td>\n",
       "      <td>...</td>\n",
       "      <td>0</td>\n",
       "      <td>0</td>\n",
       "      <td>0</td>\n",
       "      <td>1</td>\n",
       "      <td>0</td>\n",
       "      <td>0</td>\n",
       "      <td>0</td>\n",
       "      <td>1</td>\n",
       "      <td>0</td>\n",
       "      <td>0</td>\n",
       "    </tr>\n",
       "    <tr>\n",
       "      <th>104869</th>\n",
       "      <td>ID_0000634789</td>\n",
       "      <td>3.791520e+06</td>\n",
       "      <td>73.0</td>\n",
       "      <td>NaN</td>\n",
       "      <td>0</td>\n",
       "      <td>0</td>\n",
       "      <td>0</td>\n",
       "      <td>0</td>\n",
       "      <td>0</td>\n",
       "      <td>0</td>\n",
       "      <td>...</td>\n",
       "      <td>0</td>\n",
       "      <td>0</td>\n",
       "      <td>1</td>\n",
       "      <td>0</td>\n",
       "      <td>0</td>\n",
       "      <td>0</td>\n",
       "      <td>1</td>\n",
       "      <td>0</td>\n",
       "      <td>0</td>\n",
       "      <td>0</td>\n",
       "    </tr>\n",
       "    <tr>\n",
       "      <th>104870</th>\n",
       "      <td>ID_0000778100</td>\n",
       "      <td>1.105668e+08</td>\n",
       "      <td>67.0</td>\n",
       "      <td>NaN</td>\n",
       "      <td>0</td>\n",
       "      <td>0</td>\n",
       "      <td>0</td>\n",
       "      <td>0</td>\n",
       "      <td>0</td>\n",
       "      <td>0</td>\n",
       "      <td>...</td>\n",
       "      <td>0</td>\n",
       "      <td>0</td>\n",
       "      <td>0</td>\n",
       "      <td>1</td>\n",
       "      <td>0</td>\n",
       "      <td>0</td>\n",
       "      <td>1</td>\n",
       "      <td>0</td>\n",
       "      <td>0</td>\n",
       "      <td>0</td>\n",
       "    </tr>\n",
       "    <tr>\n",
       "      <th>104871</th>\n",
       "      <td>ID_0001123210</td>\n",
       "      <td>2.555017e+07</td>\n",
       "      <td>32.0</td>\n",
       "      <td>NaN</td>\n",
       "      <td>0</td>\n",
       "      <td>0</td>\n",
       "      <td>0</td>\n",
       "      <td>0</td>\n",
       "      <td>0</td>\n",
       "      <td>0</td>\n",
       "      <td>...</td>\n",
       "      <td>0</td>\n",
       "      <td>0</td>\n",
       "      <td>0</td>\n",
       "      <td>1</td>\n",
       "      <td>0</td>\n",
       "      <td>0</td>\n",
       "      <td>1</td>\n",
       "      <td>0</td>\n",
       "      <td>0</td>\n",
       "      <td>0</td>\n",
       "    </tr>\n",
       "    <tr>\n",
       "      <th>...</th>\n",
       "      <td>...</td>\n",
       "      <td>...</td>\n",
       "      <td>...</td>\n",
       "      <td>...</td>\n",
       "      <td>...</td>\n",
       "      <td>...</td>\n",
       "      <td>...</td>\n",
       "      <td>...</td>\n",
       "      <td>...</td>\n",
       "      <td>...</td>\n",
       "      <td>...</td>\n",
       "      <td>...</td>\n",
       "      <td>...</td>\n",
       "      <td>...</td>\n",
       "      <td>...</td>\n",
       "      <td>...</td>\n",
       "      <td>...</td>\n",
       "      <td>...</td>\n",
       "      <td>...</td>\n",
       "      <td>...</td>\n",
       "      <td>...</td>\n",
       "    </tr>\n",
       "    <tr>\n",
       "      <th>149805</th>\n",
       "      <td>ID_9998436223</td>\n",
       "      <td>1.731874e+06</td>\n",
       "      <td>60.0</td>\n",
       "      <td>NaN</td>\n",
       "      <td>0</td>\n",
       "      <td>0</td>\n",
       "      <td>0</td>\n",
       "      <td>0</td>\n",
       "      <td>0</td>\n",
       "      <td>0</td>\n",
       "      <td>...</td>\n",
       "      <td>0</td>\n",
       "      <td>0</td>\n",
       "      <td>0</td>\n",
       "      <td>1</td>\n",
       "      <td>0</td>\n",
       "      <td>0</td>\n",
       "      <td>1</td>\n",
       "      <td>0</td>\n",
       "      <td>0</td>\n",
       "      <td>0</td>\n",
       "    </tr>\n",
       "    <tr>\n",
       "      <th>149806</th>\n",
       "      <td>ID_9998690942</td>\n",
       "      <td>7.492988e+06</td>\n",
       "      <td>59.0</td>\n",
       "      <td>NaN</td>\n",
       "      <td>0</td>\n",
       "      <td>0</td>\n",
       "      <td>0</td>\n",
       "      <td>0</td>\n",
       "      <td>0</td>\n",
       "      <td>0</td>\n",
       "      <td>...</td>\n",
       "      <td>0</td>\n",
       "      <td>0</td>\n",
       "      <td>0</td>\n",
       "      <td>1</td>\n",
       "      <td>0</td>\n",
       "      <td>0</td>\n",
       "      <td>1</td>\n",
       "      <td>0</td>\n",
       "      <td>0</td>\n",
       "      <td>0</td>\n",
       "    </tr>\n",
       "    <tr>\n",
       "      <th>149807</th>\n",
       "      <td>ID_9999258746</td>\n",
       "      <td>4.591023e+06</td>\n",
       "      <td>25.0</td>\n",
       "      <td>NaN</td>\n",
       "      <td>0</td>\n",
       "      <td>0</td>\n",
       "      <td>0</td>\n",
       "      <td>0</td>\n",
       "      <td>0</td>\n",
       "      <td>0</td>\n",
       "      <td>...</td>\n",
       "      <td>0</td>\n",
       "      <td>0</td>\n",
       "      <td>1</td>\n",
       "      <td>0</td>\n",
       "      <td>0</td>\n",
       "      <td>0</td>\n",
       "      <td>1</td>\n",
       "      <td>0</td>\n",
       "      <td>0</td>\n",
       "      <td>0</td>\n",
       "    </tr>\n",
       "    <tr>\n",
       "      <th>149808</th>\n",
       "      <td>ID_9999427887</td>\n",
       "      <td>1.461474e+07</td>\n",
       "      <td>66.0</td>\n",
       "      <td>NaN</td>\n",
       "      <td>0</td>\n",
       "      <td>0</td>\n",
       "      <td>0</td>\n",
       "      <td>0</td>\n",
       "      <td>0</td>\n",
       "      <td>0</td>\n",
       "      <td>...</td>\n",
       "      <td>0</td>\n",
       "      <td>0</td>\n",
       "      <td>0</td>\n",
       "      <td>1</td>\n",
       "      <td>0</td>\n",
       "      <td>0</td>\n",
       "      <td>1</td>\n",
       "      <td>0</td>\n",
       "      <td>0</td>\n",
       "      <td>0</td>\n",
       "    </tr>\n",
       "    <tr>\n",
       "      <th>149809</th>\n",
       "      <td>ID_9999998408</td>\n",
       "      <td>1.134634e+09</td>\n",
       "      <td>40.0</td>\n",
       "      <td>NaN</td>\n",
       "      <td>0</td>\n",
       "      <td>0</td>\n",
       "      <td>0</td>\n",
       "      <td>0</td>\n",
       "      <td>0</td>\n",
       "      <td>0</td>\n",
       "      <td>...</td>\n",
       "      <td>0</td>\n",
       "      <td>0</td>\n",
       "      <td>0</td>\n",
       "      <td>1</td>\n",
       "      <td>0</td>\n",
       "      <td>0</td>\n",
       "      <td>1</td>\n",
       "      <td>0</td>\n",
       "      <td>0</td>\n",
       "      <td>0</td>\n",
       "    </tr>\n",
       "  </tbody>\n",
       "</table>\n",
       "<p>44943 rows × 276 columns</p>\n",
       "</div>"
      ],
      "text/plain": [
       "                   ID    population   age  target  country_Afghanistan  \\\n",
       "104867  ID_0000005111  3.557444e+06  62.0     NaN                    0   \n",
       "104868  ID_0000389416  1.292017e+07  32.0     NaN                    0   \n",
       "104869  ID_0000634789  3.791520e+06  73.0     NaN                    0   \n",
       "104870  ID_0000778100  1.105668e+08  67.0     NaN                    0   \n",
       "104871  ID_0001123210  2.555017e+07  32.0     NaN                    0   \n",
       "...               ...           ...   ...     ...                  ...   \n",
       "149805  ID_9998436223  1.731874e+06  60.0     NaN                    0   \n",
       "149806  ID_9998690942  7.492988e+06  59.0     NaN                    0   \n",
       "149807  ID_9999258746  4.591023e+06  25.0     NaN                    0   \n",
       "149808  ID_9999427887  1.461474e+07  66.0     NaN                    0   \n",
       "149809  ID_9999998408  1.134634e+09  40.0     NaN                    0   \n",
       "\n",
       "        country_Albania  country_Algeria  country_Argentina  country_Armenia  \\\n",
       "104867                0                0                  0                0   \n",
       "104868                0                0                  0                0   \n",
       "104869                0                0                  0                0   \n",
       "104870                0                0                  0                0   \n",
       "104871                0                0                  0                0   \n",
       "...                 ...              ...                ...              ...   \n",
       "149805                0                0                  0                0   \n",
       "149806                0                0                  0                0   \n",
       "149807                0                0                  0                0   \n",
       "149808                0                0                  0                0   \n",
       "149809                0                0                  0                0   \n",
       "\n",
       "        country_Australia  ...  Q26_3.0  Q26_4.0  Q27_1.0  Q27_2.0  Q27_3.0  \\\n",
       "104867                  0  ...        0        0        0        1        0   \n",
       "104868                  0  ...        0        0        0        1        0   \n",
       "104869                  0  ...        0        0        1        0        0   \n",
       "104870                  0  ...        0        0        0        1        0   \n",
       "104871                  0  ...        0        0        0        1        0   \n",
       "...                   ...  ...      ...      ...      ...      ...      ...   \n",
       "149805                  0  ...        0        0        0        1        0   \n",
       "149806                  0  ...        0        0        0        1        0   \n",
       "149807                  0  ...        0        0        1        0        0   \n",
       "149808                  0  ...        0        0        0        1        0   \n",
       "149809                  0  ...        0        0        0        1        0   \n",
       "\n",
       "        Q27_4.0  Q28_1.0  Q28_2.0  Q28_3.0  Q28_4.0  \n",
       "104867        0        1        0        0        0  \n",
       "104868        0        0        1        0        0  \n",
       "104869        0        1        0        0        0  \n",
       "104870        0        1        0        0        0  \n",
       "104871        0        1        0        0        0  \n",
       "...         ...      ...      ...      ...      ...  \n",
       "149805        0        1        0        0        0  \n",
       "149806        0        1        0        0        0  \n",
       "149807        0        1        0        0        0  \n",
       "149808        0        1        0        0        0  \n",
       "149809        0        1        0        0        0  \n",
       "\n",
       "[44943 rows x 276 columns]"
      ]
     },
     "execution_count": 60,
     "metadata": {},
     "output_type": "execute_result"
    }
   ],
   "source": [
    "TestDf"
   ]
  },
  {
   "cell_type": "markdown",
   "metadata": {},
   "source": [
    "# Training an making predictions"
   ]
  },
  {
   "cell_type": "code",
   "execution_count": 66,
   "metadata": {},
   "outputs": [],
   "source": [
    "# Removing th ID and The Target columns\n",
    "main_cols = all_data.columns.difference(['ID','target'])\n",
    "X = TrainDf[main_cols]\n",
    "Y = TrainDf.target.astype(int)\n",
    "\n",
    "\n",
    "\n",
    "#Split data into train and test data\n",
    "X_train,X_test,Y_train,Y_test = train_test_split(X,Y,test_size=0.3,random_state=42)"
   ]
  },
  {
   "cell_type": "code",
   "execution_count": 266,
   "metadata": {},
   "outputs": [
    {
     "data": {
      "text/plain": [
       "RandomForestClassifier()"
      ]
     },
     "execution_count": 266,
     "metadata": {},
     "output_type": "execute_result"
    }
   ],
   "source": [
    "#Train Model\n",
    "model = RandomForestClassifier()\n",
    "model.fit(X_train,Y_train)"
   ]
  },
  {
   "cell_type": "code",
   "execution_count": 264,
   "metadata": {},
   "outputs": [],
   "source": [
    "# Make predictions\n",
    "Y_pred = model.predict_proba(X_test)[:,1]"
   ]
  },
  {
   "cell_type": "code",
   "execution_count": 265,
   "metadata": {},
   "outputs": [
    {
     "name": "stdout",
     "output_type": "stream",
     "text": [
      "AUC Score of RandomForest on X_test is 0.7593633820055441\n",
      "\n"
     ]
    }
   ],
   "source": [
    "#Check the auc score of the model\n",
    "print(f\"AUC Score of RandomForest on X_test is {roc_auc_score(Y_test,Y_pred)}\\n\")"
   ]
  },
  {
   "cell_type": "code",
   "execution_count": 75,
   "metadata": {},
   "outputs": [
    {
     "name": "stdout",
     "output_type": "stream",
     "text": [
      "              precision    recall  f1-score   support\n",
      "\n",
      "           0       0.66      0.58      0.62     12994\n",
      "           1       0.73      0.79      0.76     18467\n",
      "\n",
      "    accuracy                           0.70     31461\n",
      "   macro avg       0.69      0.68      0.69     31461\n",
      "weighted avg       0.70      0.70      0.70     31461\n",
      "\n"
     ]
    }
   ],
   "source": [
    "#Print classification report\n",
    "print(classification_report(Y_test,[1 if x >= 0.5 else 0 for x in Y_pred]))"
   ]
  },
  {
   "cell_type": "code",
   "execution_count": 78,
   "metadata": {},
   "outputs": [],
   "source": [
    "TestDf = TestDf[main_cols]\n",
    "predictions = model.predict_proba(TestDf)[:,1]"
   ]
  },
  {
   "cell_type": "code",
   "execution_count": null,
   "metadata": {},
   "outputs": [],
   "source": []
  },
  {
   "cell_type": "code",
   "execution_count": 79,
   "metadata": {},
   "outputs": [],
   "source": [
    "#Create a submissions file\n",
    "sub_file = SampleSubmission.copy()\n",
    "sub_file.target = predictions"
   ]
  },
  {
   "cell_type": "code",
   "execution_count": 81,
   "metadata": {},
   "outputs": [],
   "source": [
    "sub_file.to_csv(\"UmojaSubmission.csv\",index=False)"
   ]
  },
  {
   "cell_type": "code",
   "execution_count": 82,
   "metadata": {},
   "outputs": [
    {
     "data": {
      "text/html": [
       "<div>\n",
       "<style scoped>\n",
       "    .dataframe tbody tr th:only-of-type {\n",
       "        vertical-align: middle;\n",
       "    }\n",
       "\n",
       "    .dataframe tbody tr th {\n",
       "        vertical-align: top;\n",
       "    }\n",
       "\n",
       "    .dataframe thead th {\n",
       "        text-align: right;\n",
       "    }\n",
       "</style>\n",
       "<table border=\"1\" class=\"dataframe\">\n",
       "  <thead>\n",
       "    <tr style=\"text-align: right;\">\n",
       "      <th></th>\n",
       "      <th>ID</th>\n",
       "      <th>target</th>\n",
       "    </tr>\n",
       "  </thead>\n",
       "  <tbody>\n",
       "    <tr>\n",
       "      <th>0</th>\n",
       "      <td>ID_0000005111</td>\n",
       "      <td>0.910000</td>\n",
       "    </tr>\n",
       "    <tr>\n",
       "      <th>1</th>\n",
       "      <td>ID_0000389416</td>\n",
       "      <td>0.170000</td>\n",
       "    </tr>\n",
       "    <tr>\n",
       "      <th>2</th>\n",
       "      <td>ID_0000634789</td>\n",
       "      <td>0.410000</td>\n",
       "    </tr>\n",
       "    <tr>\n",
       "      <th>3</th>\n",
       "      <td>ID_0000778100</td>\n",
       "      <td>0.990000</td>\n",
       "    </tr>\n",
       "    <tr>\n",
       "      <th>4</th>\n",
       "      <td>ID_0001123210</td>\n",
       "      <td>0.633333</td>\n",
       "    </tr>\n",
       "  </tbody>\n",
       "</table>\n",
       "</div>"
      ],
      "text/plain": [
       "              ID    target\n",
       "0  ID_0000005111  0.910000\n",
       "1  ID_0000389416  0.170000\n",
       "2  ID_0000634789  0.410000\n",
       "3  ID_0000778100  0.990000\n",
       "4  ID_0001123210  0.633333"
      ]
     },
     "execution_count": 82,
     "metadata": {},
     "output_type": "execute_result"
    }
   ],
   "source": [
    "sub_file.head()"
   ]
  },
  {
   "cell_type": "code",
   "execution_count": 85,
   "metadata": {},
   "outputs": [
    {
     "data": {
      "text/plain": [
       "DecisionTreeRegressor()"
      ]
     },
     "execution_count": 85,
     "metadata": {},
     "output_type": "execute_result"
    }
   ],
   "source": [
    "#Using DecisionTreeRegressor\n",
    "model2 = DecisionTreeRegressor()\n",
    "model2.fit(X_train,Y_train)"
   ]
  },
  {
   "cell_type": "code",
   "execution_count": 91,
   "metadata": {},
   "outputs": [],
   "source": [
    "prediction2 = model2.predict(X_test)"
   ]
  },
  {
   "cell_type": "code",
   "execution_count": 92,
   "metadata": {},
   "outputs": [
    {
     "data": {
      "text/plain": [
       "array([0.5, 0. , 0. , ..., 0. , 0. , 1. ])"
      ]
     },
     "execution_count": 92,
     "metadata": {},
     "output_type": "execute_result"
    }
   ],
   "source": [
    "prediction2"
   ]
  },
  {
   "cell_type": "code",
   "execution_count": 95,
   "metadata": {},
   "outputs": [
    {
     "name": "stdout",
     "output_type": "stream",
     "text": [
      "AUC Score of RandomForest on X_test is 0.6363373166578234\n",
      "\n"
     ]
    }
   ],
   "source": [
    "#Check the auc score of the model\n",
    "print(f\"AUC Score of RandomForest on X_test is {roc_auc_score(Y_test,prediction2)}\\n\")"
   ]
  },
  {
   "cell_type": "code",
   "execution_count": 96,
   "metadata": {},
   "outputs": [
    {
     "name": "stdout",
     "output_type": "stream",
     "text": [
      "              precision    recall  f1-score   support\n",
      "\n",
      "           0       0.57      0.56      0.56     12994\n",
      "           1       0.69      0.70      0.70     18467\n",
      "\n",
      "    accuracy                           0.64     31461\n",
      "   macro avg       0.63      0.63      0.63     31461\n",
      "weighted avg       0.64      0.64      0.64     31461\n",
      "\n"
     ]
    }
   ],
   "source": [
    "#Print classification report\n",
    "print(classification_report(Y_test,[1 if x >= 0.5 else 0 for x in prediction2]))"
   ]
  },
  {
   "cell_type": "code",
   "execution_count": 112,
   "metadata": {},
   "outputs": [],
   "source": [
    "TestDf = TestDf[main_cols]\n",
    "prediction3 = model2.predict(TestDf)"
   ]
  },
  {
   "cell_type": "code",
   "execution_count": 100,
   "metadata": {},
   "outputs": [],
   "source": [
    "#Create a submissions file\n",
    "sub_file = SampleSubmission.copy()\n",
    "sub_file.target = predictions"
   ]
  },
  {
   "cell_type": "code",
   "execution_count": 101,
   "metadata": {},
   "outputs": [],
   "source": [
    "#Save to file\n",
    "sub_file.to_csv(\"UmojaSubmission2.csv\",index=False)"
   ]
  },
  {
   "cell_type": "code",
   "execution_count": 103,
   "metadata": {},
   "outputs": [
    {
     "data": {
      "text/html": [
       "<div>\n",
       "<style scoped>\n",
       "    .dataframe tbody tr th:only-of-type {\n",
       "        vertical-align: middle;\n",
       "    }\n",
       "\n",
       "    .dataframe tbody tr th {\n",
       "        vertical-align: top;\n",
       "    }\n",
       "\n",
       "    .dataframe thead th {\n",
       "        text-align: right;\n",
       "    }\n",
       "</style>\n",
       "<table border=\"1\" class=\"dataframe\">\n",
       "  <thead>\n",
       "    <tr style=\"text-align: right;\">\n",
       "      <th></th>\n",
       "      <th>ID</th>\n",
       "      <th>target</th>\n",
       "    </tr>\n",
       "  </thead>\n",
       "  <tbody>\n",
       "    <tr>\n",
       "      <th>0</th>\n",
       "      <td>ID_0000005111</td>\n",
       "      <td>0.0</td>\n",
       "    </tr>\n",
       "    <tr>\n",
       "      <th>1</th>\n",
       "      <td>ID_0000389416</td>\n",
       "      <td>0.0</td>\n",
       "    </tr>\n",
       "    <tr>\n",
       "      <th>2</th>\n",
       "      <td>ID_0000634789</td>\n",
       "      <td>0.0</td>\n",
       "    </tr>\n",
       "    <tr>\n",
       "      <th>3</th>\n",
       "      <td>ID_0000778100</td>\n",
       "      <td>1.0</td>\n",
       "    </tr>\n",
       "    <tr>\n",
       "      <th>4</th>\n",
       "      <td>ID_0001123210</td>\n",
       "      <td>1.0</td>\n",
       "    </tr>\n",
       "    <tr>\n",
       "      <th>...</th>\n",
       "      <td>...</td>\n",
       "      <td>...</td>\n",
       "    </tr>\n",
       "    <tr>\n",
       "      <th>44938</th>\n",
       "      <td>ID_9998436223</td>\n",
       "      <td>1.0</td>\n",
       "    </tr>\n",
       "    <tr>\n",
       "      <th>44939</th>\n",
       "      <td>ID_9998690942</td>\n",
       "      <td>1.0</td>\n",
       "    </tr>\n",
       "    <tr>\n",
       "      <th>44940</th>\n",
       "      <td>ID_9999258746</td>\n",
       "      <td>1.0</td>\n",
       "    </tr>\n",
       "    <tr>\n",
       "      <th>44941</th>\n",
       "      <td>ID_9999427887</td>\n",
       "      <td>0.0</td>\n",
       "    </tr>\n",
       "    <tr>\n",
       "      <th>44942</th>\n",
       "      <td>ID_9999998408</td>\n",
       "      <td>0.5</td>\n",
       "    </tr>\n",
       "  </tbody>\n",
       "</table>\n",
       "<p>44943 rows × 2 columns</p>\n",
       "</div>"
      ],
      "text/plain": [
       "                  ID  target\n",
       "0      ID_0000005111     0.0\n",
       "1      ID_0000389416     0.0\n",
       "2      ID_0000634789     0.0\n",
       "3      ID_0000778100     1.0\n",
       "4      ID_0001123210     1.0\n",
       "...              ...     ...\n",
       "44938  ID_9998436223     1.0\n",
       "44939  ID_9998690942     1.0\n",
       "44940  ID_9999258746     1.0\n",
       "44941  ID_9999427887     0.0\n",
       "44942  ID_9999998408     0.5\n",
       "\n",
       "[44943 rows x 2 columns]"
      ]
     },
     "execution_count": 103,
     "metadata": {},
     "output_type": "execute_result"
    }
   ],
   "source": [
    "sub_file"
   ]
  },
  {
   "cell_type": "code",
   "execution_count": 346,
   "metadata": {},
   "outputs": [
    {
     "data": {
      "text/plain": [
       "LGBMClassifier(max_depth=15, num_leaves=62, random_state=1)"
      ]
     },
     "execution_count": 346,
     "metadata": {},
     "output_type": "execute_result"
    }
   ],
   "source": [
    "#Using LGBMClassifier\n",
    "\n",
    "model4 = LGBMClassifier(num_leaves=62,max_depth=15,random_state=1)\n",
    "model4.fit(X_train.values,Y_train.values)"
   ]
  },
  {
   "cell_type": "code",
   "execution_count": 351,
   "metadata": {},
   "outputs": [],
   "source": [
    "prediction4 = model4.predict_proba(X_test)[:,1]"
   ]
  },
  {
   "cell_type": "code",
   "execution_count": 352,
   "metadata": {},
   "outputs": [
    {
     "name": "stdout",
     "output_type": "stream",
     "text": [
      "LGBM AUC score on the X_test is: 0.7982066488376542\n",
      "\n",
      "              precision    recall  f1-score   support\n",
      "\n",
      "           0       0.67      0.65      0.66     12994\n",
      "           1       0.76      0.78      0.77     18467\n",
      "\n",
      "    accuracy                           0.73     31461\n",
      "   macro avg       0.72      0.72      0.72     31461\n",
      "weighted avg       0.73      0.73      0.73     31461\n",
      "\n"
     ]
    }
   ],
   "source": [
    "# Check the auc score of the model\n",
    "print(f'LGBM AUC score on the X_test is: {roc_auc_score(Y_test, prediction4)}\\n')\n",
    "\n",
    "# print classification report\n",
    "print(classification_report(Y_test, [1 if x >= 0.5 else 0 for x in prediction4]))"
   ]
  },
  {
   "cell_type": "code",
   "execution_count": 353,
   "metadata": {},
   "outputs": [],
   "source": [
    "TestDf = TestDf[main_cols]\n",
    "prediction4 = model4.predict_proba(TestDf)[:,1]"
   ]
  },
  {
   "cell_type": "code",
   "execution_count": 354,
   "metadata": {},
   "outputs": [],
   "source": [
    "# Create a submission file\n",
    "sub_file4 = SampleSubmission.copy()\n",
    "sub_file4.target = prediction4"
   ]
  },
  {
   "cell_type": "code",
   "execution_count": 355,
   "metadata": {},
   "outputs": [],
   "source": [
    "sub_file4.to_csv(\"UmojaSubmission08.csv\",index=False)"
   ]
  },
  {
   "cell_type": "code",
   "execution_count": 246,
   "metadata": {},
   "outputs": [
    {
     "data": {
      "text/html": [
       "<div>\n",
       "<style scoped>\n",
       "    .dataframe tbody tr th:only-of-type {\n",
       "        vertical-align: middle;\n",
       "    }\n",
       "\n",
       "    .dataframe tbody tr th {\n",
       "        vertical-align: top;\n",
       "    }\n",
       "\n",
       "    .dataframe thead th {\n",
       "        text-align: right;\n",
       "    }\n",
       "</style>\n",
       "<table border=\"1\" class=\"dataframe\">\n",
       "  <thead>\n",
       "    <tr style=\"text-align: right;\">\n",
       "      <th></th>\n",
       "      <th>ID</th>\n",
       "      <th>target</th>\n",
       "    </tr>\n",
       "  </thead>\n",
       "  <tbody>\n",
       "    <tr>\n",
       "      <th>0</th>\n",
       "      <td>ID_0000005111</td>\n",
       "      <td>0.877224</td>\n",
       "    </tr>\n",
       "    <tr>\n",
       "      <th>1</th>\n",
       "      <td>ID_0000389416</td>\n",
       "      <td>0.308708</td>\n",
       "    </tr>\n",
       "    <tr>\n",
       "      <th>2</th>\n",
       "      <td>ID_0000634789</td>\n",
       "      <td>0.483429</td>\n",
       "    </tr>\n",
       "    <tr>\n",
       "      <th>3</th>\n",
       "      <td>ID_0000778100</td>\n",
       "      <td>0.970453</td>\n",
       "    </tr>\n",
       "    <tr>\n",
       "      <th>4</th>\n",
       "      <td>ID_0001123210</td>\n",
       "      <td>0.598931</td>\n",
       "    </tr>\n",
       "  </tbody>\n",
       "</table>\n",
       "</div>"
      ],
      "text/plain": [
       "              ID    target\n",
       "0  ID_0000005111  0.877224\n",
       "1  ID_0000389416  0.308708\n",
       "2  ID_0000634789  0.483429\n",
       "3  ID_0000778100  0.970453\n",
       "4  ID_0001123210  0.598931"
      ]
     },
     "execution_count": 246,
     "metadata": {},
     "output_type": "execute_result"
    }
   ],
   "source": [
    "sub_file4.head()"
   ]
  },
  {
   "cell_type": "code",
   "execution_count": 247,
   "metadata": {},
   "outputs": [
    {
     "data": {
      "text/plain": [
       "Text(0.5, 1.0, 'Distribution of the Target Variable')"
      ]
     },
     "execution_count": 247,
     "metadata": {},
     "output_type": "execute_result"
    },
    {
     "data": {
      "image/png": "[encoded data removed]",
      "text/plain": [
       "<Figure size 432x288 with 1 Axes>"
      ]
     },
     "metadata": {
      "needs_background": "light"
     },
     "output_type": "display_data"
    }
   ],
   "source": [
    "sns.countplot([1 if x>= 0.5 else 0 for x in sub_file4.target])\n",
    "plt.title('Distribution of the Target Variable')"
   ]
  },
  {
   "cell_type": "code",
   "execution_count": 308,
   "metadata": {},
   "outputs": [
    {
     "data": {
      "text/plain": [
       "XGBRegressor(base_score=0.5, booster='gbtree', colsample_bylevel=1,\n",
       "             colsample_bynode=1, colsample_bytree=1, gamma=0, gpu_id=-1,\n",
       "             importance_type='gain', interaction_constraints='',\n",
       "             learning_rate=0.300000012, max_delta_step=0, max_depth=4,\n",
       "             min_child_weight=1, missing=nan, monotone_constraints='()',\n",
       "             n_estimators=100, n_jobs=0, num_parallel_tree=1, random_state=0,\n",
       "             reg_alpha=0, reg_lambda=1, scale_pos_weight=1, subsample=1,\n",
       "             tree_method='exact', validate_parameters=1, verbosity=None)"
      ]
     },
     "execution_count": 308,
     "metadata": {},
     "output_type": "execute_result"
    }
   ],
   "source": [
    "#Using the GradientBoostingRegressor\n",
    "\n",
    "model5 =xgb.XGBRegressor(max_depth=4)\n",
    "model5.fit(X_train,Y_train)\n"
   ]
  },
  {
   "cell_type": "code",
   "execution_count": 309,
   "metadata": {},
   "outputs": [],
   "source": [
    "prediction5 = model5.predict(X_test)"
   ]
  },
  {
   "cell_type": "code",
   "execution_count": 310,
   "metadata": {},
   "outputs": [
    {
     "name": "stdout",
     "output_type": "stream",
     "text": [
      "GradientBoost AUC score on the X_test is: 0.7931495226554197\n",
      "\n",
      "              precision    recall  f1-score   support\n",
      "\n",
      "           0       0.67      0.65      0.66     12994\n",
      "           1       0.76      0.77      0.77     18467\n",
      "\n",
      "    accuracy                           0.72     31461\n",
      "   macro avg       0.71      0.71      0.71     31461\n",
      "weighted avg       0.72      0.72      0.72     31461\n",
      "\n"
     ]
    }
   ],
   "source": [
    "# Check the auc score of the model\n",
    "print(f'GradientBoost AUC score on the X_test is: {roc_auc_score(Y_test, prediction5)}\\n')\n",
    "\n",
    "# print classification report\n",
    "print(classification_report(Y_test, [1 if x >= 0.5 else 0 for x in prediction5]))"
   ]
  },
  {
   "cell_type": "code",
   "execution_count": 311,
   "metadata": {},
   "outputs": [],
   "source": [
    "#Using GradientBooster on TestDf\n",
    "prediction5 = model5.predict(TestDf)"
   ]
  },
  {
   "cell_type": "code",
   "execution_count": 312,
   "metadata": {},
   "outputs": [
    {
     "data": {
      "text/html": [
       "<div>\n",
       "<style scoped>\n",
       "    .dataframe tbody tr th:only-of-type {\n",
       "        vertical-align: middle;\n",
       "    }\n",
       "\n",
       "    .dataframe tbody tr th {\n",
       "        vertical-align: top;\n",
       "    }\n",
       "\n",
       "    .dataframe thead th {\n",
       "        text-align: right;\n",
       "    }\n",
       "</style>\n",
       "<table border=\"1\" class=\"dataframe\">\n",
       "  <thead>\n",
       "    <tr style=\"text-align: right;\">\n",
       "      <th></th>\n",
       "      <th>ID</th>\n",
       "      <th>target</th>\n",
       "    </tr>\n",
       "  </thead>\n",
       "  <tbody>\n",
       "    <tr>\n",
       "      <th>0</th>\n",
       "      <td>ID_0000005111</td>\n",
       "      <td>0.786855</td>\n",
       "    </tr>\n",
       "    <tr>\n",
       "      <th>1</th>\n",
       "      <td>ID_0000389416</td>\n",
       "      <td>0.266234</td>\n",
       "    </tr>\n",
       "    <tr>\n",
       "      <th>2</th>\n",
       "      <td>ID_0000634789</td>\n",
       "      <td>0.448999</td>\n",
       "    </tr>\n",
       "    <tr>\n",
       "      <th>3</th>\n",
       "      <td>ID_0000778100</td>\n",
       "      <td>0.993450</td>\n",
       "    </tr>\n",
       "    <tr>\n",
       "      <th>4</th>\n",
       "      <td>ID_0001123210</td>\n",
       "      <td>0.567322</td>\n",
       "    </tr>\n",
       "  </tbody>\n",
       "</table>\n",
       "</div>"
      ],
      "text/plain": [
       "              ID    target\n",
       "0  ID_0000005111  0.786855\n",
       "1  ID_0000389416  0.266234\n",
       "2  ID_0000634789  0.448999\n",
       "3  ID_0000778100  0.993450\n",
       "4  ID_0001123210  0.567322"
      ]
     },
     "execution_count": 312,
     "metadata": {},
     "output_type": "execute_result"
    }
   ],
   "source": [
    "# Create a submission file\n",
    "sub_file5 = SampleSubmission.copy()\n",
    "sub_file5.target = prediction5\n",
    "sub_file5.head()"
   ]
  },
  {
   "cell_type": "code",
   "execution_count": 313,
   "metadata": {},
   "outputs": [],
   "source": [
    "#Saving to csv File\n",
    "sub_file5.to_csv('Umojasubmission7.csv',index=False)"
   ]
  },
  {
   "cell_type": "code",
   "execution_count": null,
   "metadata": {},
   "outputs": [],
   "source": []
  }
 ],
 "metadata": {
  "kernelspec": {
   "display_name": "Python 3",
   "language": "python",
   "name": "python3"
  },
  "language_info": {
   "codemirror_mode": {
    "name": "ipython",
    "version": 3
   },
   "file_extension": ".py",
   "mimetype": "text/x-python",
   "name": "python",
   "nbconvert_exporter": "python",
   "pygments_lexer": "ipython3",
   "version": "3.8.5"
  }
 },
 "nbformat": 4,
 "nbformat_minor": 4
}
